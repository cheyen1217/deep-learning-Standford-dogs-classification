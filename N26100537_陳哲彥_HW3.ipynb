{
  "cells": [
    {
      "cell_type": "markdown",
      "metadata": {
        "id": "W_MzBL-U79ed"
      },
      "source": [
        "## 掛接 Google Drive"
      ]
    },
    {
      "cell_type": "code",
      "execution_count": 1,
      "metadata": {
        "colab": {
          "base_uri": "https://localhost:8080/"
        },
        "id": "lc6AdLn27pht",
        "outputId": "162896b9-124b-47c7-f85f-663e1dcbc2d6"
      },
      "outputs": [
        {
          "output_type": "stream",
          "name": "stdout",
          "text": [
            "Mounted at /content/drive\n"
          ]
        }
      ],
      "source": [
        "from google.colab import drive\n",
        "drive.mount('/content/drive')"
      ]
    },
    {
      "cell_type": "code",
      "execution_count": 2,
      "metadata": {
        "id": "zN7cQyNuBJ7W"
      },
      "outputs": [],
      "source": [
        "import matplotlib.pyplot as plt\n",
        "import os\n",
        "import numpy as np\n",
        "import tensorflow as tf\n",
        "import cv2\n",
        "import tensorflow_datasets as tfds\n",
        "import tensorflow.keras.layers as layers\n",
        "from tensorflow.keras.preprocessing.image import ImageDataGenerator\n",
        "import pandas as pd\n",
        "from tensorflow.keras.applications.vgg16 import VGG16\n",
        "from tqdm import tqdm,trange"
      ]
    },
    {
      "cell_type": "markdown",
      "metadata": {
        "id": "CxZV4Uy7sxmS"
      },
      "source": [
        "## 載入資料"
      ]
    },
    {
      "cell_type": "code",
      "execution_count": 3,
      "metadata": {
        "colab": {
          "base_uri": "https://localhost:8080/"
        },
        "id": "HXW74XDz8PF5",
        "outputId": "72ac819c-4a93-4ea6-db06-014e63cdd9de"
      },
      "outputs": [
        {
          "output_type": "execute_result",
          "data": {
            "text/plain": [
              "['sample_submission.csv',\n",
              " 'category.xlsx',\n",
              " '2022hw3.zip',\n",
              " 'stanford_dogs',\n",
              " 'prediction.csv']"
            ]
          },
          "metadata": {},
          "execution_count": 3
        }
      ],
      "source": [
        "# 確認壓縮檔路徑\n",
        "filepath='/content/drive/MyDrive/Hw3'\n",
        "os.listdir(filepath)"
      ]
    },
    {
      "cell_type": "code",
      "execution_count": 4,
      "metadata": {
        "id": "IUVKLv-J8pj6"
      },
      "outputs": [],
      "source": [
        "# # 解壓縮檔案\n",
        "#!unzip '/content/drive/MyDrive/Hw3/2022hw3.zip' -d '/content/drive/MyDrive/Hw3'"
      ]
    },
    {
      "cell_type": "code",
      "execution_count": 5,
      "metadata": {
        "colab": {
          "base_uri": "https://localhost:8080/"
        },
        "id": "7xgbhSqNA9QR",
        "outputId": "2fdb833a-17b9-4f6d-8dd2-a65eb3f727b8"
      },
      "outputs": [
        {
          "output_type": "execute_result",
          "data": {
            "text/plain": [
              "['test', 'train']"
            ]
          },
          "metadata": {},
          "execution_count": 5
        }
      ],
      "source": [
        "dirpath='/content/drive/MyDrive/Hw3/stanford_dogs/stanfor_dogs/'\n",
        "os.listdir(dirpath) "
      ]
    },
    {
      "cell_type": "code",
      "execution_count": 6,
      "metadata": {
        "colab": {
          "base_uri": "https://localhost:8080/"
        },
        "id": "tNIW_juLBWP1",
        "outputId": "6cabec4c-a44b-4299-aeae-8edcfc556951"
      },
      "outputs": [
        {
          "output_type": "stream",
          "name": "stdout",
          "text": [
            "Found 10800 images belonging to 120 classes.\n",
            "Found 1200 images belonging to 120 classes.\n",
            "Found 8580 images belonging to 1 classes.\n"
          ]
        }
      ],
      "source": [
        "# imgSize=(100,100)\n",
        "# imgShape=(100,100,3)\n",
        "imgSize=(299,299)\n",
        "imgShape=(299,299,3)\n",
        "batchSize=32\n",
        "\n",
        "# train generator\n",
        "trainDataGenerator = ImageDataGenerator(rescale = 1/255,\n",
        "                      # augmentation\n",
        "                      rotation_range = 40,\n",
        "                      shear_range = 0.3,\n",
        "                      zoom_range = 0.3,\n",
        "                      width_shift_range = 0.2,\n",
        "                      height_shift_range = 0.2,\n",
        "                      horizontal_flip=True,\n",
        "                      validation_split=0.1)\n",
        "valDataGenerator = ImageDataGenerator(rescale=1/255,validation_split=0.1)\n",
        "\n",
        "trainBatch = trainDataGenerator.flow_from_directory(\n",
        "    directory = dirpath+'train',\n",
        "    target_size = imgSize,\n",
        "    class_mode = 'categorical',\n",
        "    shuffle = True,\n",
        "    batch_size = batchSize,\n",
        "    subset='training'\n",
        ")\n",
        "\n",
        "valBatch = valDataGenerator.flow_from_directory(\n",
        "    directory = dirpath+'train',\n",
        "    target_size = imgSize,\n",
        "    class_mode = 'categorical',\n",
        "    shuffle = False,\n",
        "    batch_size = batchSize,\n",
        "    subset='validation'\n",
        ")\n",
        "\n",
        "# test generator\n",
        "testDataGenerator = ImageDataGenerator(rescale=1/255)\n",
        "\n",
        "testBatch = testDataGenerator.flow_from_directory(\n",
        "    dirpath,\n",
        "    class_mode=None,\n",
        "    shuffle = False,\n",
        "    batch_size=batchSize,\n",
        "    target_size= imgSize,\n",
        "    classes=['test']\n",
        ")\n"
      ]
    },
    {
      "cell_type": "markdown",
      "metadata": {
        "id": "B52WxNJ_t4ty"
      },
      "source": [
        "## 載入模型"
      ]
    },
    {
      "cell_type": "code",
      "execution_count": 7,
      "metadata": {
        "id": "WrKYaA-MSJo7",
        "colab": {
          "base_uri": "https://localhost:8080/"
        },
        "outputId": "361c1584-5be2-4139-fb50-a94fd439c878"
      },
      "outputs": [
        {
          "output_type": "stream",
          "name": "stdout",
          "text": [
            "Downloading data from https://storage.googleapis.com/tensorflow/keras-applications/inception_v3/inception_v3_weights_tf_dim_ordering_tf_kernels_notop.h5\n",
            "87916544/87910968 [==============================] - 1s 0us/step\n",
            "87924736/87910968 [==============================] - 1s 0us/step\n"
          ]
        }
      ],
      "source": [
        "from keras.applications.inception_v3 import InceptionV3\n",
        "from keras import models\n",
        "# base_model = tf.keras.applications.VGG16(\n",
        "#     include_top = False,\n",
        "#     weights = 'imagenet',\n",
        "#     input_tensor = None,\n",
        "#     input_shape=imgShape,\n",
        "\n",
        "# )\n",
        "\n",
        "# x = base_model.output\n",
        "# x = layers.Dropout(0.5)(x)\n",
        "# x = layers.GlobalAveragePooling2D()(x)\n",
        "\n",
        "base_model = InceptionV3(weights = 'imagenet', include_top = False, input_shape = (299,299,3))\n",
        "\n",
        "model = models.Sequential()\n",
        "model.add(base_model) # add pre_trained layers\n",
        "model.add(layers.GlobalAveragePooling2D())\n",
        "#model.add(Flatten()) # flatten to 1-D vector to prepare for fully connected layers\n",
        "model.add(layers.Dropout(0.3))\n",
        "model.add(layers.Dense(512, activation = 'relu'))\n",
        "model.add(layers.Dense(512, activation = 'relu'))\n",
        "model.add(layers.Dense(120, activation = 'softmax'))\n",
        "\n",
        "\n",
        "\n",
        "\n",
        "#output_layer = layers.Dense(units = 120, activation = 'softmax')(x)\n",
        "\n",
        "\n",
        "# freeze the weight\n",
        "#base_model.trainable = False\n",
        "model.layers[0].trainable = False\n",
        "\n",
        "#model = tf.keras.Model(inputs = base_model.input, outputs = output_layer)"
      ]
    },
    {
      "cell_type": "code",
      "execution_count": 8,
      "metadata": {
        "colab": {
          "base_uri": "https://localhost:8080/"
        },
        "id": "-Kgx4Cqnd9HG",
        "outputId": "ffdd49f4-7346-46e6-93f0-c29601268900"
      },
      "outputs": [
        {
          "output_type": "stream",
          "name": "stdout",
          "text": [
            "Model: \"sequential\"\n",
            "_________________________________________________________________\n",
            " Layer (type)                Output Shape              Param #   \n",
            "=================================================================\n",
            " inception_v3 (Functional)   (None, 8, 8, 2048)        21802784  \n",
            "                                                                 \n",
            " global_average_pooling2d (G  (None, 2048)             0         \n",
            " lobalAveragePooling2D)                                          \n",
            "                                                                 \n",
            " dropout (Dropout)           (None, 2048)              0         \n",
            "                                                                 \n",
            " dense (Dense)               (None, 512)               1049088   \n",
            "                                                                 \n",
            " dense_1 (Dense)             (None, 512)               262656    \n",
            "                                                                 \n",
            " dense_2 (Dense)             (None, 120)               61560     \n",
            "                                                                 \n",
            "=================================================================\n",
            "Total params: 23,176,088\n",
            "Trainable params: 1,373,304\n",
            "Non-trainable params: 21,802,784\n",
            "_________________________________________________________________\n"
          ]
        }
      ],
      "source": [
        "model.summary()"
      ]
    },
    {
      "cell_type": "code",
      "execution_count": 9,
      "metadata": {
        "colab": {
          "base_uri": "https://localhost:8080/"
        },
        "id": "OpfiMKUpUHxk",
        "outputId": "5fa5880c-1a20-4c94-8fc6-6b775d4495fa"
      },
      "outputs": [
        {
          "output_type": "stream",
          "name": "stdout",
          "text": [
            "Model: \"sequential_1\"\n",
            "_________________________________________________________________\n",
            " Layer (type)                Output Shape              Param #   \n",
            "=================================================================\n",
            " inception_v3 (Functional)   (None, 8, 8, 2048)        21802784  \n",
            "                                                                 \n",
            " dropout_1 (Dropout)         (None, 8, 8, 2048)        0         \n",
            "                                                                 \n",
            " global_average_pooling2d_1   (None, 2048)             0         \n",
            " (GlobalAveragePooling2D)                                        \n",
            "                                                                 \n",
            " dense_3 (Dense)             (None, 120)               245880    \n",
            "                                                                 \n",
            "=================================================================\n",
            "Total params: 22,048,664\n",
            "Trainable params: 245,880\n",
            "Non-trainable params: 21,802,784\n",
            "_________________________________________________________________\n"
          ]
        }
      ],
      "source": [
        "# show the model stucture (截圖用)\n",
        "model1 = tf.keras.Sequential([\n",
        "    base_model,\n",
        "    layers.Dropout(0.5),\n",
        "    layers.GlobalAveragePooling2D(),\n",
        "    tf.keras.layers.Dense(120, activation=\"softmax\")\n",
        "])\n",
        "model1.summary()"
      ]
    },
    {
      "cell_type": "markdown",
      "metadata": {
        "id": "BElIEQVKupvu"
      },
      "source": [
        "## train model"
      ]
    },
    {
      "cell_type": "code",
      "execution_count": 10,
      "metadata": {
        "id": "Bzml7HtGZ4jG"
      },
      "outputs": [],
      "source": [
        "model.compile(optimizer = tf.keras.optimizers.Adam(learning_rate=0.001),\n",
        "              loss='categorical_crossentropy',\n",
        "              metrics=['accuracy'])"
      ]
    },
    {
      "cell_type": "code",
      "execution_count": 11,
      "metadata": {
        "colab": {
          "base_uri": "https://localhost:8080/"
        },
        "id": "hbPINPi4aWtm",
        "outputId": "79ae992e-1153-4ef4-9dfa-d9fee073e561"
      },
      "outputs": [
        {
          "output_type": "stream",
          "name": "stdout",
          "text": [
            "Epoch 1/30\n",
            "337/337 [==============================] - 1904s 6s/step - loss: 1.7968 - accuracy: 0.5489 - val_loss: 0.5600 - val_accuracy: 0.8218\n",
            "Epoch 2/30\n",
            "337/337 [==============================] - 234s 694ms/step - loss: 1.0215 - accuracy: 0.7011 - val_loss: 0.4888 - val_accuracy: 0.8336\n",
            "Epoch 3/30\n",
            "337/337 [==============================] - 233s 691ms/step - loss: 0.9361 - accuracy: 0.7259 - val_loss: 0.5236 - val_accuracy: 0.8319\n",
            "Epoch 4/30\n",
            "337/337 [==============================] - 233s 691ms/step - loss: 0.8980 - accuracy: 0.7363 - val_loss: 0.4346 - val_accuracy: 0.8564\n",
            "Epoch 5/30\n",
            "337/337 [==============================] - 233s 690ms/step - loss: 0.8747 - accuracy: 0.7406 - val_loss: 0.4481 - val_accuracy: 0.8590\n",
            "Epoch 6/30\n",
            "337/337 [==============================] - 233s 691ms/step - loss: 0.8172 - accuracy: 0.7555 - val_loss: 0.4562 - val_accuracy: 0.8573\n",
            "Epoch 7/30\n",
            "337/337 [==============================] - 233s 692ms/step - loss: 0.8145 - accuracy: 0.7503 - val_loss: 0.4548 - val_accuracy: 0.8488\n",
            "Epoch 8/30\n",
            "337/337 [==============================] - 234s 694ms/step - loss: 0.7921 - accuracy: 0.7598 - val_loss: 0.4226 - val_accuracy: 0.8615\n",
            "Epoch 9/30\n",
            "337/337 [==============================] - 234s 693ms/step - loss: 0.7575 - accuracy: 0.7708 - val_loss: 0.4204 - val_accuracy: 0.8581\n",
            "Epoch 10/30\n",
            "337/337 [==============================] - 233s 693ms/step - loss: 0.7508 - accuracy: 0.7687 - val_loss: 0.4160 - val_accuracy: 0.8598\n",
            "Epoch 11/30\n",
            "337/337 [==============================] - 233s 691ms/step - loss: 0.7624 - accuracy: 0.7675 - val_loss: 0.4223 - val_accuracy: 0.8606\n",
            "Epoch 12/30\n",
            "337/337 [==============================] - 234s 695ms/step - loss: 0.7360 - accuracy: 0.7739 - val_loss: 0.4068 - val_accuracy: 0.8708\n",
            "Epoch 13/30\n",
            "337/337 [==============================] - 233s 692ms/step - loss: 0.7161 - accuracy: 0.7782 - val_loss: 0.4388 - val_accuracy: 0.8547\n",
            "Epoch 14/30\n",
            "337/337 [==============================] - 234s 694ms/step - loss: 0.7238 - accuracy: 0.7780 - val_loss: 0.4385 - val_accuracy: 0.8666\n",
            "Epoch 15/30\n",
            "337/337 [==============================] - 233s 690ms/step - loss: 0.7049 - accuracy: 0.7844 - val_loss: 0.4173 - val_accuracy: 0.8640\n",
            "Epoch 16/30\n",
            "337/337 [==============================] - 233s 692ms/step - loss: 0.6862 - accuracy: 0.7855 - val_loss: 0.4477 - val_accuracy: 0.8581\n",
            "Epoch 17/30\n",
            "337/337 [==============================] - 235s 698ms/step - loss: 0.6882 - accuracy: 0.7858 - val_loss: 0.4570 - val_accuracy: 0.8573\n",
            "Epoch 18/30\n",
            "337/337 [==============================] - 235s 696ms/step - loss: 0.6794 - accuracy: 0.7871 - val_loss: 0.4320 - val_accuracy: 0.8598\n",
            "Epoch 19/30\n",
            "337/337 [==============================] - 234s 695ms/step - loss: 0.6680 - accuracy: 0.7934 - val_loss: 0.4304 - val_accuracy: 0.8733\n",
            "Epoch 20/30\n",
            "337/337 [==============================] - 233s 692ms/step - loss: 0.6719 - accuracy: 0.7906 - val_loss: 0.3795 - val_accuracy: 0.8750\n",
            "Epoch 21/30\n",
            "337/337 [==============================] - 234s 693ms/step - loss: 0.6557 - accuracy: 0.7964 - val_loss: 0.4399 - val_accuracy: 0.8691\n",
            "Epoch 22/30\n",
            "337/337 [==============================] - 234s 694ms/step - loss: 0.6541 - accuracy: 0.8003 - val_loss: 0.4281 - val_accuracy: 0.8699\n",
            "Epoch 23/30\n",
            "337/337 [==============================] - 235s 696ms/step - loss: 0.6594 - accuracy: 0.7949 - val_loss: 0.4050 - val_accuracy: 0.8682\n",
            "Epoch 24/30\n",
            "337/337 [==============================] - 233s 692ms/step - loss: 0.6507 - accuracy: 0.7943 - val_loss: 0.4212 - val_accuracy: 0.8674\n",
            "Epoch 25/30\n",
            "337/337 [==============================] - 235s 696ms/step - loss: 0.6184 - accuracy: 0.8035 - val_loss: 0.4465 - val_accuracy: 0.8674\n",
            "Epoch 26/30\n",
            "337/337 [==============================] - 234s 694ms/step - loss: 0.6227 - accuracy: 0.8048 - val_loss: 0.4282 - val_accuracy: 0.8691\n",
            "Epoch 27/30\n",
            "337/337 [==============================] - 234s 694ms/step - loss: 0.6329 - accuracy: 0.8026 - val_loss: 0.4192 - val_accuracy: 0.8716\n",
            "Epoch 28/30\n",
            "337/337 [==============================] - 234s 695ms/step - loss: 0.6197 - accuracy: 0.8073 - val_loss: 0.4272 - val_accuracy: 0.8640\n",
            "Epoch 29/30\n",
            "337/337 [==============================] - 232s 689ms/step - loss: 0.6080 - accuracy: 0.8046 - val_loss: 0.4584 - val_accuracy: 0.8649\n",
            "Epoch 30/30\n",
            "337/337 [==============================] - 233s 691ms/step - loss: 0.6216 - accuracy: 0.8086 - val_loss: 0.4362 - val_accuracy: 0.8674\n"
          ]
        }
      ],
      "source": [
        "epoch=30\n",
        "history = model.fit(\n",
        "  trainBatch,\n",
        "  steps_per_epoch = trainBatch.samples // batchSize,\n",
        "  \n",
        "  #steps_per_epoch = len(trainBatch),\n",
        "  validation_data = valBatch,\n",
        "  validation_steps = valBatch.samples // batchSize,\n",
        "  #validation_steps = len(valBatch),\n",
        "  \n",
        "  epochs=epoch,\n",
        "  verbose=1\n",
        ")"
      ]
    },
    {
      "cell_type": "markdown",
      "metadata": {
        "id": "dWJbYmtuus4c"
      },
      "source": [
        "## show the loss & accuracy curve"
      ]
    },
    {
      "cell_type": "code",
      "execution_count": 12,
      "metadata": {
        "id": "Z0E2C7MYNixf",
        "colab": {
          "base_uri": "https://localhost:8080/",
          "height": 545
        },
        "outputId": "5dc68a96-cb7e-4772-b69b-72bb2b56c6a7"
      },
      "outputs": [
        {
          "output_type": "display_data",
          "data": {
            "text/plain": [
              "<Figure size 432x288 with 1 Axes>"
            ],
            "image/png": "[encoded data removed]"
          },
          "metadata": {
            "needs_background": "light"
          }
        },
        {
          "output_type": "display_data",
          "data": {
            "text/plain": [
              "<Figure size 432x288 with 1 Axes>"
            ],
            "image/png": "[encoded data removed]"
          },
          "metadata": {
            "needs_background": "light"
          }
        }
      ],
      "source": [
        "plt.plot(history.history['loss'],label='loss')\n",
        "plt.plot(history.history['val_loss'],label='val_loss')\n",
        "plt.title('loss curve')\n",
        "plt.ylabel('loss')\n",
        "plt.legend()\n",
        "plt.show()\n",
        "plt.plot(history.history['accuracy'],label='accuracy')\n",
        "plt.plot(history.history['val_accuracy'],label='val_accuracy')\n",
        "plt.title('accuracy curve')\n",
        "plt.ylabel('accuracy')\n",
        "plt.legend()\n",
        "plt.show()"
      ]
    },
    {
      "cell_type": "markdown",
      "metadata": {
        "id": "X6RDlbqaukki"
      },
      "source": [
        "## predict test data"
      ]
    },
    {
      "cell_type": "code",
      "execution_count": 13,
      "metadata": {
        "id": "BUdqX8aZ_fEC",
        "colab": {
          "base_uri": "https://localhost:8080/"
        },
        "outputId": "fb4bd5e1-b89d-44f1-b074-6d0422077c1b"
      },
      "outputs": [
        {
          "output_type": "execute_result",
          "data": {
            "text/plain": [
              "array([[3.5836900e-05, 1.9534030e-03, 4.4820164e-03, ..., 5.0516400e-07,\n",
              "        6.1234999e-07, 3.4788866e-06],\n",
              "       [5.3327494e-06, 9.9821246e-01, 6.4407186e-06, ..., 2.9637178e-08,\n",
              "        2.8242571e-09, 3.0876492e-09],\n",
              "       [1.9570282e-10, 2.3698384e-14, 3.4860243e-11, ..., 1.9714320e-11,\n",
              "        3.6525034e-09, 6.9988493e-10],\n",
              "       ...,\n",
              "       [1.2176731e-07, 7.1557112e-17, 1.8614633e-13, ..., 4.8393740e-11,\n",
              "        1.0152196e-12, 2.3620891e-10],\n",
              "       [3.2839478e-12, 1.9196976e-16, 3.3177329e-11, ..., 4.6283402e-14,\n",
              "        4.4040384e-13, 1.2370629e-11],\n",
              "       [1.2110213e-10, 9.4940935e-14, 1.0761020e-11, ..., 8.9815151e-09,\n",
              "        7.5876748e-08, 6.2040051e-08]], dtype=float32)"
            ]
          },
          "metadata": {},
          "execution_count": 13
        }
      ],
      "source": [
        "prediction = model.predict(testBatch)\n",
        "prediction"
      ]
    },
    {
      "cell_type": "markdown",
      "metadata": {
        "id": "iiTO1mWpZJpp"
      },
      "source": [
        "## 輸出結果"
      ]
    },
    {
      "cell_type": "code",
      "execution_count": 14,
      "metadata": {
        "id": "OdYZq54b3voA"
      },
      "outputs": [],
      "source": [
        "prediction_label=prediction.argmax(axis=1)\n",
        "filename=testBatch.filenames\n",
        "filename_new=testBatch.filenames\n",
        "outputdf=pd.DataFrame()\n",
        "for i in range(len(filename)) :\n",
        "  filename_new[i]=filename[i][5:]\n",
        "\n",
        "outputdf['Name']=filename_new\n",
        "outputdf['Label']=prediction_label\n",
        "outputdf.to_csv('/content/drive/MyDrive/Hw3/prediction.csv',index=False)"
      ]
    }
  ],
  "metadata": {
    "accelerator": "GPU",
    "colab": {
      "collapsed_sections": [],
      "name": "N26100537_陳哲彥_HW3.ipynb",
      "provenance": []
    },
    "kernelspec": {
      "display_name": "Python 3",
      "name": "python3"
    },
    "language_info": {
      "name": "python"
    }
  },
  "nbformat": 4,
  "nbformat_minor": 0
}